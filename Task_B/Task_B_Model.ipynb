{
 "cells": [
  {
   "cell_type": "markdown",
   "id": "cbe5ef9f",
   "metadata": {},
   "source": [
    "# Task B - Face Matching Model"
   ]
  },
  {
   "cell_type": "markdown",
   "id": "62dc6e39-01d5-4d36-92e5-dc0ead6a8352",
   "metadata": {
    "jp-MarkdownHeadingCollapsed": true
   },
   "source": [
    "import os  # importing module\n",
    "from glob import glob  # importing module\n",
    "\n",
    "train_dir = r'C:\\Users\\USER\\Desktop\\hackathon\\Comys_Hackathon5\\Task_B\\train'  # variable assignment\n",
    "\n",
    "# Identity folders (contain images)\n",
    "identity_folders = [os.path.join(train_dir, d) for d in os.listdir(train_dir) if os.path.isdir(os.path.join(train_dir, d))]  # variable assignment\n",
    "\n",
    "# Loose images (directly inside train folder)\n",
    "loose_images = [os.path.join(train_dir, f) for f in os.listdir(train_dir)   # variable assignment\n",
    "                if os.path.isfile(os.path.join(train_dir, f)) and f.lower().endswith(('.jpg','.jpeg','.png'))]  # conditional\n",
    "\n",
    "print(f\"Number of identity folders: {len(identity_folders)}\")  # operation\n",
    "print(f\"Number of loose images: {len(loose_images)}\")  # operation\n",
    "\n",
    "# Collect images inside each identity folder\n",
    "identity_images = {}  # variable assignment\n",
    "for folder in identity_folders:  # loop\n",
    "    imgs = glob(os.path.join(folder, '*'))  # variable assignment\n",
    "    imgs = [img for img in imgs if img.lower().endswith(('.jpg','.jpeg','.png'))]  # variable assignment\n",
    "    identity_images[folder] = imgs  # variable assignment\n",
    "\n",
    "print(f\"Total identities with images: {len(identity_images)}\")  # operation\n"
   ]
  },
  {
   "cell_type": "markdown",
   "id": "debb6ba8",
   "metadata": {},
   "source": [
    "Step 1:"
   ]
  },
  {
   "cell_type": "code",
   "execution_count": 2,
   "id": "8716fa61-f912-48b3-aba0-e73a3bc5b69b",
   "metadata": {},
   "outputs": [
    {
     "name": "stdout",
     "output_type": "stream",
     "text": [
      "done\n"
     ]
    }
   ],
   "source": [
    "import os  # importing module\n",
    "import random  # importing module\n",
    "from glob import glob  # importing module\n",
    "from PIL import Image  # importing module\n",
    "\n",
    "import torch  # importing module\n",
    "import torch.nn as nn  # importing module\n",
    "import torch.nn.functional as F  # importing module\n",
    "from torch.utils.data import Dataset, DataLoader  # importing module\n",
    "import torchvision.transforms as transforms  # importing module\n",
    "from torchvision.models import resnet18, ResNet18_Weights  # importing module\n",
    "\n",
    "from sklearn.metrics import accuracy_score, precision_score, recall_score, f1_score  # importing module\n",
    "print(\"done\")  # operation\n"
   ]
  },
  {
   "cell_type": "markdown",
   "id": "1c0feebd",
   "metadata": {},
   "source": [
    "Step 2:"
   ]
  },
  {
   "cell_type": "code",
   "execution_count": 3,
   "id": "ed34c862-6487-4c38-81d8-0028cacc1299",
   "metadata": {},
   "outputs": [
    {
     "name": "stdout",
     "output_type": "stream",
     "text": [
      "Number of train identities: 1127\n",
      "Number of val identities: 250\n"
     ]
    }
   ],
   "source": [
    "def build_identity_images_dict(root_dir):  # defining a function\n",
    "    identities = [os.path.join(root_dir, d) for d in os.listdir(root_dir)  # variable assignment\n",
    "                  if os.path.isdir(os.path.join(root_dir, d))]  # conditional\n",
    "    identity_images = {}  # variable assignment\n",
    "    for identity_path in identities:  # loop\n",
    "        images = glob(os.path.join(identity_path, '*'))  # variable assignment\n",
    "        images = [img for img in images if img.lower().endswith(('.jpg','.jpeg','.png'))]  # variable assignment\n",
    "        if len(images) > 0:  # conditional\n",
    "            identity_images[identity_path] = images  # variable assignment\n",
    "    return identity_images  # returning value\n",
    "\n",
    "train_dir = r'C:\\Users\\USER\\Desktop\\hackathon\\Comys_Hackathon5\\Task_B\\train'  # variable assignment\n",
    "val_dir = r'C:\\Users\\USER\\Desktop\\hackathon\\Comys_Hackathon5\\Task_B\\val'  # variable assignment\n",
    "\n",
    "identity_images_train = build_identity_images_dict(train_dir)  # variable assignment\n",
    "identity_images_val = build_identity_images_dict(val_dir)  # variable assignment\n",
    "\n",
    "print(f\"Number of train identities: {len(identity_images_train)}\")  # operation\n",
    "print(f\"Number of val identities: {len(identity_images_val)}\")  # operation\n"
   ]
  },
  {
   "cell_type": "markdown",
   "id": "d39c1c4c",
   "metadata": {},
   "source": [
    "Step 3:"
   ]
  },
  {
   "cell_type": "code",
   "execution_count": 5,
   "id": "f38fbce1-1b6d-45ac-a8e5-b978b7a7ba26",
   "metadata": {},
   "outputs": [
    {
     "name": "stdout",
     "output_type": "stream",
     "text": [
      "Common identities: 250\n",
      "Missing in train: set()\n"
     ]
    }
   ],
   "source": [
    "import os  # importing module\n",
    "\n",
    "train_dir = r\"C:\\Users\\USER\\Desktop\\hackathon\\Comys_Hackathon5\\Task_B\\train\"  # variable assignment\n",
    "val_dir = r\"C:\\Users\\USER\\Desktop\\hackathon\\Comys_Hackathon5\\Task_B\\val\"  # variable assignment\n",
    "\n",
    "train_ids = set(os.listdir(train_dir))  # variable assignment\n",
    "val_ids = set(os.listdir(val_dir))  # variable assignment\n",
    "\n",
    "common_ids = train_ids.intersection(val_ids)  # variable assignment\n",
    "print(f\"Common identities: {len(common_ids)}\")  # operation\n",
    "print(f\"Missing in train: {val_ids - train_ids}\")  # operation\n"
   ]
  },
  {
   "cell_type": "markdown",
   "id": "9bdbb146",
   "metadata": {},
   "source": [
    "Step 4:"
   ]
  },
  {
   "cell_type": "code",
   "execution_count": 6,
   "id": "b0c098d3-3851-4b00-8951-a51a417281b9",
   "metadata": {},
   "outputs": [
    {
     "name": "stdout",
     "output_type": "stream",
     "text": [
      "Filtered validation set created at: val_filtered\n"
     ]
    }
   ],
   "source": [
    "import os  # importing module\n",
    "import shutil  # importing module\n",
    "\n",
    "train_path = r'C:\\Users\\USER\\Desktop\\hackathon\\Comys_Hackathon5\\Task_B\\train'  # variable assignment\n",
    "val_path =  r'C:\\Users\\USER\\Desktop\\hackathon\\Comys_Hackathon5\\Task_B\\val'  # variable assignment\n",
    "filtered_val_path = \"val_filtered\"  # variable assignment\n",
    "\n",
    "# Step 1: Get identity names\n",
    "train_ids = set(os.listdir(train_path))  # variable assignment\n",
    "val_ids = os.listdir(val_path)  # variable assignment\n",
    "\n",
    "# Step 2: Create filtered val directory\n",
    "os.makedirs(filtered_val_path, exist_ok=True)  # variable assignment\n",
    "\n",
    "# Step 3: Copy only matching identities\n",
    "for identity in val_ids:  # loop\n",
    "    if identity in train_ids:  # conditional\n",
    "        src = os.path.join(val_path, identity)  # variable assignment\n",
    "        dst = os.path.join(filtered_val_path, identity)  # variable assignment\n",
    "        shutil.copytree(src, dst, dirs_exist_ok=True)  # variable assignment\n",
    "\n",
    "print(f\"Filtered validation set created at: {filtered_val_path}\")  # operation\n"
   ]
  },
  {
   "cell_type": "markdown",
   "id": "a7a1cfbc",
   "metadata": {},
   "source": [
    "Step 5:"
   ]
  },
  {
   "cell_type": "code",
   "execution_count": 7,
   "id": "bf510d3d-b622-4f2e-b2ab-ab422d082965",
   "metadata": {},
   "outputs": [],
   "source": [
    "import os  # importing module\n",
    "import random  # importing module\n",
    "from PIL import Image  # importing module\n",
    "from glob import glob  # importing module\n",
    "from collections import defaultdict  # importing module\n",
    "import torch  # importing module\n",
    "from torch.utils.data import Dataset, DataLoader  # importing module\n",
    "from torchvision import transforms, models  # importing module\n",
    "import torch.nn as nn  # importing module\n",
    "import torch.nn.functional as F  # importing module\n",
    "from tqdm import tqdm  # importing module\n",
    "import pickle  # importing module\n"
   ]
  },
  {
   "cell_type": "markdown",
   "id": "be4580d3",
   "metadata": {},
   "source": [
    "Step 6:"
   ]
  },
  {
   "cell_type": "code",
   "execution_count": 8,
   "id": "16fb02df-b034-4e6a-800f-80555e8f7f2b",
   "metadata": {},
   "outputs": [],
   "source": [
    "class SiameseFaceDataset(Dataset):  # operation\n",
    "    def __init__(self, identity_images, transform=None, num_pairs=10000):  # variable assignment\n",
    "        self.identity_images = identity_images  # variable assignment\n",
    "        self.transform = transform  # variable assignment\n",
    "        self.num_pairs = num_pairs  # variable assignment\n",
    "        self.identity_keys = list(identity_images.keys())  # variable assignment\n",
    "        \n",
    "    def __len__(self):  # defining a function\n",
    "        return self.num_pairs  # returning value\n",
    "    \n",
    "    def __getitem__(self, idx):  # defining a function\n",
    "        same_person = random.choice([0,1])  # variable assignment\n",
    "        \n",
    "        if same_person:  # conditional\n",
    "            valid_ids = [k for k,v in self.identity_images.items() if len(v) > 1]  # variable assignment\n",
    "            identity = random.choice(valid_ids)  # variable assignment\n",
    "            img1_path, img2_path = random.sample(self.identity_images[identity], 2)  # variable assignment\n",
    "            label = 1  # variable assignment\n",
    "        else:  # conditional\n",
    "            id1, id2 = random.sample(self.identity_keys, 2)  # variable assignment\n",
    "            img1_path = random.choice(self.identity_images[id1])  # variable assignment\n",
    "            img2_path = random.choice(self.identity_images[id2])  # variable assignment\n",
    "            label = 0  # variable assignment\n",
    "        \n",
    "        img1 = Image.open(img1_path).convert('RGB')  # variable assignment\n",
    "        img2 = Image.open(img2_path).convert('RGB')  # variable assignment\n",
    "        \n",
    "        if self.transform:  # conditional\n",
    "            img1 = self.transform(img1)  # variable assignment\n",
    "            img2 = self.transform(img2)  # variable assignment\n",
    "        \n",
    "        return (img1, img2), torch.tensor(label, dtype=torch.float32)  # variable assignment\n"
   ]
  },
  {
   "cell_type": "markdown",
   "id": "af598220",
   "metadata": {},
   "source": [
    "Step 7:"
   ]
  },
  {
   "cell_type": "code",
   "execution_count": 10,
   "id": "06c5937e-2c60-4a11-96e2-079dbd729f04",
   "metadata": {},
   "outputs": [
    {
     "name": "stdout",
     "output_type": "stream",
     "text": [
      "✅ Dataset ready. Total identities: 1127\n"
     ]
    }
   ],
   "source": [
    "# Load train identity image paths\n",
    "train_dir = r'C:\\Users\\USER\\Desktop\\hackathon\\Comys_Hackathon5\\Task_B\\train'  # variable assignment\n",
    "identity_images = defaultdict(list)  # variable assignment\n",
    "\n",
    "for identity in os.listdir(train_dir):  # loop\n",
    "    id_path = os.path.join(train_dir, identity)  # variable assignment\n",
    "    for img in glob(os.path.join(id_path, '*.jpg')):  # loop\n",
    "        identity_images[identity].append(img)  # operation\n",
    "\n",
    "# Transforms\n",
    "transform = transforms.Compose([  # variable assignment\n",
    "    transforms.Resize((224, 224)),  # operation\n",
    "    transforms.ToTensor(),  # operation\n",
    "    transforms.Normalize([0.5], [0.5])  # operation\n",
    "])  # operation\n",
    "\n",
    "# Create dataset\n",
    "dataset = SiameseFaceDataset(identity_images, transform=transform, num_pairs=10000)  # variable assignment\n",
    "loader = DataLoader(dataset, batch_size=32, shuffle=True)  # variable assignment\n",
    "\n",
    "print(f\"✅ Dataset ready. Total identities: {len(identity_images)}\")  # operation\n"
   ]
  },
  {
   "cell_type": "markdown",
   "id": "8b799465",
   "metadata": {},
   "source": [
    "Step 8:"
   ]
  },
  {
   "cell_type": "code",
   "execution_count": 11,
   "id": "a70e231e-2025-415b-b8f1-3521bb285b08",
   "metadata": {},
   "outputs": [],
   "source": [
    "from torchvision.models import resnet18, ResNet18_Weights  # importing module\n",
    "\n",
    "class SiameseNetwork(nn.Module):  # operation\n",
    "    def __init__(self):  # defining a function\n",
    "        super(SiameseNetwork, self).__init__()  # operation\n",
    "        # Load ResNet18 with updated weights argument (no warnings)\n",
    "        self.resnet = resnet18(weights=ResNet18_Weights.DEFAULT)  # variable assignment\n",
    "        self.resnet.fc = nn.Identity()  # Remove classification head  # variable assignment\n",
    "\n",
    "    def forward_once(self, x):  # defining a function\n",
    "        return self.resnet(x)  # returning value\n",
    "\n",
    "    def forward(self, x1, x2):  # defining a function\n",
    "        embed1 = self.forward_once(x1)  # variable assignment\n",
    "        embed2 = self.forward_once(x2)  # variable assignment\n",
    "        return embed1, embed2  # returning value\n"
   ]
  },
  {
   "cell_type": "markdown",
   "id": "a2ed56fc",
   "metadata": {},
   "source": [
    "Step 9:"
   ]
  },
  {
   "cell_type": "code",
   "execution_count": null,
   "id": "e1e575f4-be3d-4c61-a700-0e7cf404eedf",
   "metadata": {},
   "outputs": [],
   "source": [
    "class ContrastiveLoss(nn.Module):  # operation\n",
    "    def __init__(self, margin=1.0):  # variable assignment\n",
    "        super(ContrastiveLoss, self).__init__()  # operation\n",
    "        self.margin = margin  # variable assignment\n",
    "\n",
    "    def forward(self, embed1, embed2, label):  # defining a function\n",
    "        distance = F.pairwise_distance(embed1, embed2)  # variable assignment\n",
    "        loss = (label) * torch.pow(distance, 2) + \\  \n",
    "               (1 - label) * torch.pow(torch.clamp(self.margin - distance, min=0.0), 2)  # variable assignment\n",
    "        return loss.mean()  # returning value\n"
   ]
  },
  {
   "cell_type": "markdown",
   "id": "50645167",
   "metadata": {},
   "source": [
    "Step 10:"
   ]
  },
  {
   "cell_type": "code",
   "execution_count": 13,
   "id": "08b11a75-47a6-4e44-8991-de15bed70e59",
   "metadata": {
    "scrolled": true
   },
   "outputs": [
    {
     "name": "stderr",
     "output_type": "stream",
     "text": [
      "100%|██████████████████████████████████████████████████████████████████████████████████████████████████████████| 313/313 [31:49<00:00,  6.10s/it]\n"
     ]
    },
    {
     "name": "stdout",
     "output_type": "stream",
     "text": [
      "Epoch 1/5 - Loss: 3115.8106\n"
     ]
    },
    {
     "name": "stderr",
     "output_type": "stream",
     "text": [
      "100%|██████████████████████████████████████████████████████████████████████████████████████████████████████████| 313/313 [32:42<00:00,  6.27s/it]"
     ]
    },
    {
     "name": "stdout",
     "output_type": "stream",
     "text": [
      "Epoch 2/5 - Loss: 97.5095\n"
     ]
    },
    {
     "name": "stderr",
     "output_type": "stream",
     "text": [
      "\n",
      "100%|██████████████████████████████████████████████████████████████████████████████████████████████████████████| 313/313 [29:23<00:00,  5.63s/it]\n"
     ]
    },
    {
     "name": "stdout",
     "output_type": "stream",
     "text": [
      "Epoch 3/5 - Loss: 58.3094\n"
     ]
    },
    {
     "name": "stderr",
     "output_type": "stream",
     "text": [
      "100%|██████████████████████████████████████████████████████████████████████████████████████████████████████████| 313/313 [29:27<00:00,  5.65s/it]"
     ]
    },
    {
     "name": "stdout",
     "output_type": "stream",
     "text": [
      "Epoch 4/5 - Loss: 46.1647\n"
     ]
    },
    {
     "name": "stderr",
     "output_type": "stream",
     "text": [
      "\n",
      "100%|██████████████████████████████████████████████████████████████████████████████████████████████████████████| 313/313 [28:59<00:00,  5.56s/it]\n"
     ]
    },
    {
     "name": "stdout",
     "output_type": "stream",
     "text": [
      "Epoch 5/5 - Loss: 40.4957\n",
      "✅ Siamese model trained and saved as siamese_model.pth\n"
     ]
    }
   ],
   "source": [
    "device = torch.device('cuda' if torch.cuda.is_available() else 'cpu')  # variable assignment\n",
    "model = SiameseNetwork().to(device)  # variable assignment\n",
    "criterion = ContrastiveLoss()  # variable assignment\n",
    "optimizer = torch.optim.Adam(model.parameters(), lr=1e-4)  # variable assignment\n",
    "\n",
    "EPOCHS = 5  # variable assignment\n",
    "\n",
    "for epoch in range(EPOCHS):  # loop\n",
    "    model.train()  # operation\n",
    "    total_loss = 0  # variable assignment\n",
    "    for (img1, img2), label in tqdm(loader):  # loop\n",
    "        img1, img2, label = img1.to(device), img2.to(device), label.to(device)  # variable assignment\n",
    "        optimizer.zero_grad()  # operation\n",
    "        embed1, embed2 = model(img1, img2)  # variable assignment\n",
    "        loss = criterion(embed1, embed2, label)  # variable assignment\n",
    "        loss.backward()  # operation\n",
    "        optimizer.step()  # operation\n",
    "        total_loss += loss.item()  # variable assignment\n",
    "    \n",
    "    print(f\"Epoch {epoch+1}/{EPOCHS} - Loss: {total_loss:.4f}\")  # operation\n",
    "\n",
    "# Save trained model\n",
    "torch.save(model.state_dict(), 'siamese_model.pth')  # operation\n",
    "print(\"✅ Siamese model trained and saved as siamese_model.pth\")  # operation\n"
   ]
  },
  {
   "cell_type": "markdown",
   "id": "519dc2ab",
   "metadata": {},
   "source": [
    "Step 11:"
   ]
  },
  {
   "cell_type": "code",
   "execution_count": 16,
   "id": "6a9fed03-5d9c-4d0d-b54a-ae4d0ab867aa",
   "metadata": {},
   "outputs": [
    {
     "name": "stderr",
     "output_type": "stream",
     "text": [
      "Reference embeddings: 100%|██████████████████████████████████████████████████████████████████████████████████| 1127/1127 [02:35<00:00,  7.25it/s]\n"
     ]
    },
    {
     "name": "stdout",
     "output_type": "stream",
     "text": [
      "\n",
      "✅ Generated reference embeddings for 1127 identities.\n"
     ]
    },
    {
     "name": "stderr",
     "output_type": "stream",
     "text": [
      "Evaluating val images: 100%|███████████████████████████████████████████████████████████████████████████████████| 250/250 [01:22<00:00,  3.01it/s]\n",
      "C:\\Users\\USER\\Desktop\\hackathon\\hackenv\\lib\\site-packages\\sklearn\\metrics\\_classification.py:98: UserWarning: The number of unique classes is greater than 50% of the number of samples.\n",
      "  type_true = type_of_target(y_true, input_name=\"y_true\")\n",
      "C:\\Users\\USER\\Desktop\\hackathon\\hackenv\\lib\\site-packages\\sklearn\\metrics\\_classification.py:99: UserWarning: The number of unique classes is greater than 50% of the number of samples.\n",
      "  type_pred = type_of_target(y_pred, input_name=\"y_pred\")\n",
      "C:\\Users\\USER\\Desktop\\hackathon\\hackenv\\lib\\site-packages\\sklearn\\metrics\\_classification.py:98: UserWarning: The number of unique classes is greater than 50% of the number of samples.\n",
      "  type_true = type_of_target(y_true, input_name=\"y_true\")\n",
      "C:\\Users\\USER\\Desktop\\hackathon\\hackenv\\lib\\site-packages\\sklearn\\metrics\\_classification.py:99: UserWarning: The number of unique classes is greater than 50% of the number of samples.\n",
      "  type_pred = type_of_target(y_pred, input_name=\"y_pred\")\n"
     ]
    },
    {
     "name": "stdout",
     "output_type": "stream",
     "text": [
      "\n",
      "✅ Evaluation Metrics:\n",
      "Accuracy : 0.9716\n",
      "Precision: 0.9738\n",
      "Recall   : 0.9712\n",
      "F1 Score : 0.9719\n"
     ]
    },
    {
     "name": "stderr",
     "output_type": "stream",
     "text": [
      "C:\\Users\\USER\\Desktop\\hackathon\\hackenv\\lib\\site-packages\\sklearn\\utils\\multiclass.py:79: UserWarning: The number of unique classes is greater than 50% of the number of samples.\n",
      "  ys_types = set(type_of_target(x) for x in ys)\n",
      "C:\\Users\\USER\\Desktop\\hackathon\\hackenv\\lib\\site-packages\\sklearn\\utils\\multiclass.py:79: UserWarning: The number of unique classes is greater than 50% of the number of samples.\n",
      "  ys_types = set(type_of_target(x) for x in ys)\n",
      "C:\\Users\\USER\\Desktop\\hackathon\\hackenv\\lib\\site-packages\\sklearn\\metrics\\_classification.py:98: UserWarning: The number of unique classes is greater than 50% of the number of samples.\n",
      "  type_true = type_of_target(y_true, input_name=\"y_true\")\n",
      "C:\\Users\\USER\\Desktop\\hackathon\\hackenv\\lib\\site-packages\\sklearn\\metrics\\_classification.py:99: UserWarning: The number of unique classes is greater than 50% of the number of samples.\n",
      "  type_pred = type_of_target(y_pred, input_name=\"y_pred\")\n",
      "C:\\Users\\USER\\Desktop\\hackathon\\hackenv\\lib\\site-packages\\sklearn\\utils\\multiclass.py:79: UserWarning: The number of unique classes is greater than 50% of the number of samples.\n",
      "  ys_types = set(type_of_target(x) for x in ys)\n",
      "C:\\Users\\USER\\Desktop\\hackathon\\hackenv\\lib\\site-packages\\sklearn\\utils\\multiclass.py:79: UserWarning: The number of unique classes is greater than 50% of the number of samples.\n",
      "  ys_types = set(type_of_target(x) for x in ys)\n",
      "C:\\Users\\USER\\Desktop\\hackathon\\hackenv\\lib\\site-packages\\sklearn\\metrics\\_classification.py:98: UserWarning: The number of unique classes is greater than 50% of the number of samples.\n",
      "  type_true = type_of_target(y_true, input_name=\"y_true\")\n",
      "C:\\Users\\USER\\Desktop\\hackathon\\hackenv\\lib\\site-packages\\sklearn\\metrics\\_classification.py:99: UserWarning: The number of unique classes is greater than 50% of the number of samples.\n",
      "  type_pred = type_of_target(y_pred, input_name=\"y_pred\")\n",
      "C:\\Users\\USER\\Desktop\\hackathon\\hackenv\\lib\\site-packages\\sklearn\\utils\\multiclass.py:79: UserWarning: The number of unique classes is greater than 50% of the number of samples.\n",
      "  ys_types = set(type_of_target(x) for x in ys)\n",
      "C:\\Users\\USER\\Desktop\\hackathon\\hackenv\\lib\\site-packages\\sklearn\\utils\\multiclass.py:79: UserWarning: The number of unique classes is greater than 50% of the number of samples.\n",
      "  ys_types = set(type_of_target(x) for x in ys)\n",
      "C:\\Users\\USER\\Desktop\\hackathon\\hackenv\\lib\\site-packages\\sklearn\\metrics\\_classification.py:98: UserWarning: The number of unique classes is greater than 50% of the number of samples.\n",
      "  type_true = type_of_target(y_true, input_name=\"y_true\")\n",
      "C:\\Users\\USER\\Desktop\\hackathon\\hackenv\\lib\\site-packages\\sklearn\\metrics\\_classification.py:99: UserWarning: The number of unique classes is greater than 50% of the number of samples.\n",
      "  type_pred = type_of_target(y_pred, input_name=\"y_pred\")\n",
      "C:\\Users\\USER\\Desktop\\hackathon\\hackenv\\lib\\site-packages\\sklearn\\utils\\multiclass.py:79: UserWarning: The number of unique classes is greater than 50% of the number of samples.\n",
      "  ys_types = set(type_of_target(x) for x in ys)\n",
      "C:\\Users\\USER\\Desktop\\hackathon\\hackenv\\lib\\site-packages\\sklearn\\utils\\multiclass.py:79: UserWarning: The number of unique classes is greater than 50% of the number of samples.\n",
      "  ys_types = set(type_of_target(x) for x in ys)\n",
      "C:\\Users\\USER\\Desktop\\hackathon\\hackenv\\lib\\site-packages\\sklearn\\metrics\\_classification.py:98: UserWarning: The number of unique classes is greater than 50% of the number of samples.\n",
      "  type_true = type_of_target(y_true, input_name=\"y_true\")\n",
      "C:\\Users\\USER\\Desktop\\hackathon\\hackenv\\lib\\site-packages\\sklearn\\metrics\\_classification.py:99: UserWarning: The number of unique classes is greater than 50% of the number of samples.\n",
      "  type_pred = type_of_target(y_pred, input_name=\"y_pred\")\n",
      "C:\\Users\\USER\\Desktop\\hackathon\\hackenv\\lib\\site-packages\\sklearn\\utils\\multiclass.py:79: UserWarning: The number of unique classes is greater than 50% of the number of samples.\n",
      "  ys_types = set(type_of_target(x) for x in ys)\n",
      "C:\\Users\\USER\\Desktop\\hackathon\\hackenv\\lib\\site-packages\\sklearn\\utils\\multiclass.py:79: UserWarning: The number of unique classes is greater than 50% of the number of samples.\n",
      "  ys_types = set(type_of_target(x) for x in ys)\n",
      "C:\\Users\\USER\\Desktop\\hackathon\\hackenv\\lib\\site-packages\\sklearn\\metrics\\_classification.py:98: UserWarning: The number of unique classes is greater than 50% of the number of samples.\n",
      "  type_true = type_of_target(y_true, input_name=\"y_true\")\n",
      "C:\\Users\\USER\\Desktop\\hackathon\\hackenv\\lib\\site-packages\\sklearn\\metrics\\_classification.py:99: UserWarning: The number of unique classes is greater than 50% of the number of samples.\n",
      "  type_pred = type_of_target(y_pred, input_name=\"y_pred\")\n",
      "C:\\Users\\USER\\Desktop\\hackathon\\hackenv\\lib\\site-packages\\sklearn\\utils\\multiclass.py:79: UserWarning: The number of unique classes is greater than 50% of the number of samples.\n",
      "  ys_types = set(type_of_target(x) for x in ys)\n",
      "C:\\Users\\USER\\Desktop\\hackathon\\hackenv\\lib\\site-packages\\sklearn\\utils\\multiclass.py:79: UserWarning: The number of unique classes is greater than 50% of the number of samples.\n",
      "  ys_types = set(type_of_target(x) for x in ys)\n"
     ]
    }
   ],
   "source": [
    "import os  # importing module\n",
    "import torch  # importing module\n",
    "import torch.nn.functional as F  # importing module\n",
    "from PIL import Image  # importing module\n",
    "from tqdm import tqdm  # importing module\n",
    "from torchvision import transforms  # importing module\n",
    "from sklearn.metrics import accuracy_score, precision_score, recall_score, f1_score  # importing module\n",
    "\n",
    "# === Paths ===\n",
    "val_dir = r'C:\\Users\\USER\\Desktop\\hackathon\\val_filtered'  # variable assignment\n",
    "train_dir = r'C:\\Users\\USER\\Desktop\\hackathon\\Comys_Hackathon5\\Task_B\\train'  # variable assignment\n",
    "threshold = 0.5  # variable assignment\n",
    "device = torch.device(\"cuda\" if torch.cuda.is_available() else \"cpu\")  # variable assignment\n",
    "\n",
    "# === Reload model ===\n",
    "model = SiameseNetwork().to(device)  # variable assignment\n",
    "model.load_state_dict(torch.load('siamese_model.pth', map_location=device))  # variable assignment\n",
    "model.eval()  # operation\n",
    "\n",
    "# === Image transform ===\n",
    "transform = transforms.Compose([  # variable assignment\n",
    "    transforms.Resize((224, 224)),  # operation\n",
    "    transforms.ToTensor(),  # operation\n",
    "    transforms.Normalize([0.5], [0.5])  # operation\n",
    "])  # operation\n",
    "\n",
    "# === Helper function ===\n",
    "def get_embedding(image_path):  # defining a function\n",
    "    img = Image.open(image_path).convert('RGB')  # variable assignment\n",
    "    img_t = transform(img).unsqueeze(0).to(device)  # variable assignment\n",
    "    with torch.no_grad():  # operation\n",
    "        embedding = model.forward_once(img_t)  # variable assignment\n",
    "    return embedding.cpu()  # returning value\n",
    "\n",
    "# === Generate reference embeddings (average of all images per identity) ===\n",
    "reference_embeddings = {}  # variable assignment\n",
    "for identity in tqdm(os.listdir(train_dir), desc=\"Reference embeddings\"):  # variable assignment\n",
    "    id_path = os.path.join(train_dir, identity)  # variable assignment\n",
    "    embeddings = []  # variable assignment\n",
    "    for img_file in os.listdir(id_path):  # loop\n",
    "        if not img_file.lower().endswith((\".jpg\", \".jpeg\", \".png\")):  # conditional\n",
    "            continue  # Skip non-images  # operation\n",
    "        img_path = os.path.join(id_path, img_file)  # variable assignment\n",
    "        embeddings.append(get_embedding(img_path))  # operation\n",
    "    if embeddings:  # conditional\n",
    "        stacked = torch.vstack(embeddings)  # variable assignment\n",
    "        reference_embeddings[identity] = stacked.mean(dim=0)  # variable assignment\n",
    "\n",
    "print(f\"\\n✅ Generated reference embeddings for {len(reference_embeddings)} identities.\")  # loop\n",
    "\n",
    "# === Evaluate on val_filtered ===\n",
    "y_true, y_pred, sim_scores = [], [], []  # variable assignment\n",
    "\n",
    "for identity in tqdm(os.listdir(val_dir), desc=\"Evaluating val images\"):  # variable assignment\n",
    "    id_path = os.path.join(val_dir, identity)  # variable assignment\n",
    "    for img_file in os.listdir(id_path):  # loop\n",
    "        img_path = os.path.join(id_path, img_file)  # variable assignment\n",
    "        if not os.path.isfile(img_path) or not img_file.lower().endswith(('.jpg', '.jpeg', '.png')):  # conditional\n",
    "            continue  # Skip folders and junk  # operation\n",
    "        \n",
    "        emb = get_embedding(img_path)  # variable assignment\n",
    "        best_match = None  # variable assignment\n",
    "        best_score = -1  # variable assignment\n",
    "        \n",
    "        for ref_id, ref_emb in reference_embeddings.items():  # loop\n",
    "            sim = F.cosine_similarity(emb, ref_emb.unsqueeze(0)).item()  # variable assignment\n",
    "            if sim > best_score:  # conditional\n",
    "                best_score = sim  # variable assignment\n",
    "                best_match = ref_id  # variable assignment\n",
    "        \n",
    "        y_true.append(identity)  # operation\n",
    "        y_pred.append(best_match)  # operation\n",
    "        sim_scores.append(best_score)  # operation\n",
    "\n",
    "# === Metrics ===\n",
    "accuracy = accuracy_score(y_true, y_pred)  # variable assignment\n",
    "precision = precision_score(y_true, y_pred, average='macro', zero_division=0)  # variable assignment\n",
    "recall = recall_score(y_true, y_pred, average='macro', zero_division=0)  # variable assignment\n",
    "f1 = f1_score(y_true, y_pred, average='macro', zero_division=0)  # variable assignment\n",
    "\n",
    "# === Output ===\n",
    "print(\"\\n✅ Evaluation Metrics:\")  # operation\n",
    "print(f\"Accuracy : {accuracy:.4f}\")  # operation\n",
    "print(f\"Precision: {precision:.4f}\")  # operation\n",
    "print(f\"Recall   : {recall:.4f}\")  # operation\n",
    "print(f\"F1 Score : {f1:.4f}\")  # operation"
   ]
  },
  {
   "cell_type": "markdown",
   "id": "c15c2ad9",
   "metadata": {},
   "source": [
    "Step 12:"
   ]
  },
  {
   "cell_type": "code",
   "execution_count": 4,
   "id": "d3052d12-fc9d-4b61-af90-5bd6a28f49d5",
   "metadata": {},
   "outputs": [
    {
     "name": "stdout",
     "output_type": "stream",
     "text": [
      "Requirement already satisfied: torchviz in c:\\users\\user\\desktop\\hackathon\\hackenv\\lib\\site-packages (0.0.3)\n",
      "Requirement already satisfied: torch in c:\\users\\user\\desktop\\hackathon\\hackenv\\lib\\site-packages (from torchviz) (2.7.1)\n",
      "Requirement already satisfied: graphviz in c:\\users\\user\\desktop\\hackathon\\hackenv\\lib\\site-packages (from torchviz) (0.21)\n",
      "Requirement already satisfied: sympy>=1.13.3 in c:\\users\\user\\desktop\\hackathon\\hackenv\\lib\\site-packages (from torch->torchviz) (1.14.0)\n",
      "Requirement already satisfied: networkx in c:\\users\\user\\desktop\\hackathon\\hackenv\\lib\\site-packages (from torch->torchviz) (3.4.2)\n",
      "Requirement already satisfied: fsspec in c:\\users\\user\\desktop\\hackathon\\hackenv\\lib\\site-packages (from torch->torchviz) (2025.5.1)\n",
      "Requirement already satisfied: jinja2 in c:\\users\\user\\desktop\\hackathon\\hackenv\\lib\\site-packages (from torch->torchviz) (3.1.6)\n",
      "Requirement already satisfied: typing-extensions>=4.10.0 in c:\\users\\user\\desktop\\hackathon\\hackenv\\lib\\site-packages (from torch->torchviz) (4.14.0)\n",
      "Requirement already satisfied: filelock in c:\\users\\user\\desktop\\hackathon\\hackenv\\lib\\site-packages (from torch->torchviz) (3.18.0)\n",
      "Requirement already satisfied: mpmath<1.4,>=1.1.0 in c:\\users\\user\\desktop\\hackathon\\hackenv\\lib\\site-packages (from sympy>=1.13.3->torch->torchviz) (1.3.0)\n",
      "Requirement already satisfied: MarkupSafe>=2.0 in c:\\users\\user\\desktop\\hackathon\\hackenv\\lib\\site-packages (from jinja2->torch->torchviz) (3.0.2)\n"
     ]
    },
    {
     "name": "stderr",
     "output_type": "stream",
     "text": [
      "\n",
      "[notice] A new release of pip available: 22.2.2 -> 25.1.1\n",
      "[notice] To update, run: python.exe -m pip install --upgrade pip\n"
     ]
    },
    {
     "name": "stdout",
     "output_type": "stream",
     "text": [
      "Requirement already satisfied: tqdm in c:\\users\\user\\desktop\\hackathon\\hackenv\\lib\\site-packages (4.67.1)\n",
      "Requirement already satisfied: colorama in c:\\users\\user\\desktop\\hackathon\\hackenv\\lib\\site-packages (from tqdm) (0.4.6)\n"
     ]
    },
    {
     "name": "stderr",
     "output_type": "stream",
     "text": [
      "\n",
      "[notice] A new release of pip available: 22.2.2 -> 25.1.1\n",
      "[notice] To update, run: python.exe -m pip install --upgrade pip\n"
     ]
    }
   ],
   "source": [
    "!pip install torchviz  # operation\n",
    "!pip install tqdm  # operation\n",
    "from tqdm import tqdm  # importing module"
   ]
  },
  {
   "cell_type": "markdown",
   "id": "e29dc51f",
   "metadata": {},
   "source": [
    "Step 13:"
   ]
  },
  {
   "cell_type": "code",
   "execution_count": 29,
   "id": "4fc6a7e3-a224-4876-811b-56cf94282e08",
   "metadata": {},
   "outputs": [
    {
     "name": "stdout",
     "output_type": "stream",
     "text": [
      "✅ Saved final results to val_results.csv\n"
     ]
    }
   ],
   "source": [
    "import pandas as pd  # importing module\n",
    "\n",
    "# Assuming y_pred and y_true are already populated from step 7\n",
    "results = pd.DataFrame({  # variable assignment\n",
    "    \"ground_truth\": y_true,  # operation\n",
    "    \"predicted\": y_pred,  # operation\n",
    "    \"similarity_score\": sim_scores  # operation\n",
    "})  # operation\n",
    "\n",
    "results.to_csv(\"val_results.csv\", index=False)  # variable assignment\n",
    "print(\"✅ Saved final results to val_results.csv\")  # operation\n"
   ]
  },
  {
   "cell_type": "markdown",
   "id": "05a7a16c",
   "metadata": {},
   "source": [
    "Step 14:"
   ]
  },
  {
   "cell_type": "code",
   "execution_count": 31,
   "id": "012f7813-2560-485d-ba44-d4f793162607",
   "metadata": {},
   "outputs": [],
   "source": [
    "import torch.nn as nn  # importing module\n",
    "import torch.nn.functional as F  # importing module\n",
    "from torchvision.models import resnet18, ResNet18_Weights  # importing module\n",
    "\n",
    "class SiameseNetwork(nn.Module):  # operation\n",
    "    def __init__(self):  # defining a function\n",
    "        super(SiameseNetwork, self).__init__()  # operation\n",
    "        base_model = resnet18(weights=ResNet18_Weights.DEFAULT)  # variable assignment\n",
    "        self.feature_extractor = nn.Sequential(*list(base_model.children())[:-1])  # Remove classifier  # variable assignment\n",
    "        self.fc = nn.Linear(512, 256)  # variable assignment\n",
    "\n",
    "    def forward(self, x):  # defining a function\n",
    "        x = self.feature_extractor(x)  # variable assignment\n",
    "        x = x.view(x.size(0), -1)  # variable assignment\n",
    "        x = self.fc(x)  # variable assignment\n",
    "        x = F.normalize(x, p=2, dim=1)  # Normalize for cosine similarity  # variable assignment\n",
    "        return x  # returning value\n"
   ]
  },
  {
   "cell_type": "markdown",
   "id": "e531161a",
   "metadata": {},
   "source": [
    "Step 15:"
   ]
  },
  {
   "cell_type": "code",
   "execution_count": 32,
   "id": "9d1f46f3-1a58-47f9-91ef-de7ae8578695",
   "metadata": {},
   "outputs": [
    {
     "data": {
      "image/png": "[encoded data removed]",
      "text/plain": [
       "<Figure size 1000x600 with 1 Axes>"
      ]
     },
     "metadata": {},
     "output_type": "display_data"
    }
   ],
   "source": [
    "from matplotlib import pyplot as plt  # importing module\n",
    "\n",
    "plt.figure(figsize=(10, 6))  # variable assignment\n",
    "plt.axis('off')  # operation\n",
    "plt.title(\"Siamese Network Architecture\", fontsize=14)  # variable assignment\n",
    "\n",
    "lines = [  # variable assignment\n",
    "    \"Input Image 1 → ResNet18 → FC(256) → Embedding1\",  # operation\n",
    "    \"Input Image 2 → ResNet18 → FC(256) → Embedding2\",  # operation\n",
    "    \"Cosine Similarity(Embedding1, Embedding2) → Match / No Match\"  # operation\n",
    "]  # operation\n",
    "\n",
    "for i, line in enumerate(lines):  # loop\n",
    "    plt.text(0.1, 0.8 - i * 0.2, line, fontsize=12)  # variable assignment\n",
    "\n",
    "plt.savefig(\"model_diagram_manual.png\")  # operation\n",
    "plt.show()  # operation\n"
   ]
  },
  {
   "cell_type": "markdown",
   "id": "1af7c0f0",
   "metadata": {},
   "source": [
    "Step 16:"
   ]
  },
  {
   "cell_type": "code",
   "execution_count": 33,
   "id": "5130e8fd-ec25-490c-82dc-ac61e09ffe06",
   "metadata": {},
   "outputs": [
    {
     "name": "stdout",
     "output_type": "stream",
     "text": [
      "C:\\Users\\USER\\Desktop\\hackathon\n",
      "C:\\Program Files\\Graphviz\\bin\\dot.EXE\n"
     ]
    }
   ],
   "source": [
    "import os  # importing module\n",
    "print(os.getcwd())  # shows current working directory  # operation\n",
    "\n",
    "import shutil  # importing module\n",
    "print(shutil.which(\"dot\"))  # operation\n"
   ]
  },
  {
   "cell_type": "markdown",
   "id": "8474abcf",
   "metadata": {},
   "source": [
    "Step 17:"
   ]
  },
  {
   "cell_type": "code",
   "execution_count": 34,
   "id": "55e3d48e-c730-4a77-b4da-ac1ae5b62acb",
   "metadata": {},
   "outputs": [
    {
     "name": "stdout",
     "output_type": "stream",
     "text": [
      "Model graph saved as model.png\n"
     ]
    }
   ],
   "source": [
    "import os  # importing module\n",
    "import torch  # importing module\n",
    "from torchviz import make_dot  # importing module\n",
    "\n",
    "# Add Graphviz bin folder to PATH inside Python (important!)\n",
    "os.environ[\"PATH\"] += os.pathsep + r\"C:\\Program Files\\Graphviz\\bin\"  # variable assignment\n",
    "\n",
    "# Dummy model example - replace this with your actual model and input\n",
    "class DummyModel(torch.nn.Module):  # operation\n",
    "    def __init__(self):  # defining a function\n",
    "        super().__init__()  # operation\n",
    "        self.linear = torch.nn.Linear(10, 5)  # variable assignment\n",
    "\n",
    "    def get_embedding(self, x):  # defining a function\n",
    "        return self.linear(x)  # returning value\n",
    "\n",
    "model = DummyModel()  # variable assignment\n",
    "\n",
    "# Create a dummy input tensor matching your model input shape\n",
    "input_tensor = torch.randn(1, 10)  # variable assignment\n",
    "\n",
    "# Get output tensor for graph visualization\n",
    "output = model.get_embedding(input_tensor)  # variable assignment\n",
    "\n",
    "# Generate graph and save as model.png\n",
    "make_dot(output, params=dict(model.named_parameters())).render(\"model\", format=\"png\")  # variable assignment\n",
    "\n",
    "print(\"Model graph saved as model.png\")  # operation\n"
   ]
  },
  {
   "cell_type": "markdown",
   "id": "1c074855",
   "metadata": {},
   "source": [
    "Step 18:"
   ]
  },
  {
   "cell_type": "code",
   "execution_count": 35,
   "id": "9ff3fc53-ebfa-4cdf-b175-7bc81df076f9",
   "metadata": {},
   "outputs": [
    {
     "data": {
      "text/plain": [
       "<Figure size 1200x1200 with 0 Axes>"
      ]
     },
     "metadata": {},
     "output_type": "display_data"
    },
    {
     "data": {
      "image/png": "[encoded data removed]",
      "text/plain": [
       "<Figure size 640x480 with 2 Axes>"
      ]
     },
     "metadata": {},
     "output_type": "display_data"
    }
   ],
   "source": [
    "from sklearn.metrics import confusion_matrix, ConfusionMatrixDisplay  # importing module\n",
    "import matplotlib.pyplot as plt  # importing module\n",
    "\n",
    "cm = confusion_matrix(y_true, y_pred, labels=list(set(y_true)))  # variable assignment\n",
    "disp = ConfusionMatrixDisplay(confusion_matrix=cm, display_labels=list(set(y_true)))  # variable assignment\n",
    "plt.figure(figsize=(12,12))  # variable assignment\n",
    "disp.plot(cmap=plt.cm.Blues, xticks_rotation='vertical')  # variable assignment\n",
    "plt.title(\"Confusion Matrix\")  # operation\n",
    "plt.show()  # operation\n"
   ]
  },
  {
   "cell_type": "markdown",
   "id": "01068ea0",
   "metadata": {},
   "source": [
    "Step 19:"
   ]
  },
  {
   "cell_type": "code",
   "execution_count": 37,
   "id": "73be22ac-6dad-475e-9f58-07297a6f1df2",
   "metadata": {},
   "outputs": [
    {
     "name": "stdout",
     "output_type": "stream",
     "text": [
      "📊 Threshold tuning results:\n",
      "\n",
      "Threshold: 0.30 | Acc: 0.9458, Prec: 1.0000, Rec: 0.5640, F1: 0.7213\n",
      "Threshold: 0.35 | Acc: 0.9570, Prec: 1.0000, Rec: 0.6540, F1: 0.7908\n",
      "Threshold: 0.40 | Acc: 0.9668, Prec: 0.9821, Rec: 0.7466, F1: 0.8483\n",
      "Threshold: 0.45 | Acc: 0.9634, Prec: 0.8689, Rec: 0.8311, F1: 0.8496\n",
      "Threshold: 0.50 | Acc: 0.9421, Prec: 0.7149, Rec: 0.8883, F1: 0.7922\n",
      "Threshold: 0.55 | Acc: 0.9028, Prec: 0.5647, Rec: 0.9510, F1: 0.7086\n",
      "Threshold: 0.60 | Acc: 0.8680, Prec: 0.4844, Rec: 0.9728, F1: 0.6467\n",
      "Threshold: 0.65 | Acc: 0.8378, Prec: 0.4338, Rec: 1.0000, F1: 0.6051\n",
      "Threshold: 0.70 | Acc: 0.8128, Prec: 0.3989, Rec: 1.0000, F1: 0.5703\n",
      "Threshold: 0.75 | Acc: 0.7874, Prec: 0.3688, Rec: 1.0000, F1: 0.5389\n",
      "Threshold: 0.80 | Acc: 0.7630, Prec: 0.3440, Rec: 1.0000, F1: 0.5119\n",
      "Threshold: 0.85 | Acc: 0.7434, Prec: 0.3262, Rec: 1.0000, F1: 0.4920\n",
      "Threshold: 0.90 | Acc: 0.7211, Prec: 0.3081, Rec: 1.0000, F1: 0.4711\n",
      "Threshold: 0.95 | Acc: 0.7035, Prec: 0.2953, Rec: 1.0000, F1: 0.4559\n",
      "\n",
      "✅ Best Threshold: 0.45 | Best F1 Score: 0.8496\n"
     ]
    }
   ],
   "source": [
    "import numpy as np  # importing module\n",
    "from sklearn.metrics import accuracy_score, precision_score, recall_score, f1_score  # importing module\n",
    "\n",
    "thresholds = np.arange(0.3, 1.0, 0.05)  # variable assignment\n",
    "best_threshold = 0.5  # variable assignment\n",
    "best_f1 = 0  # variable assignment\n",
    "\n",
    "print(\"📊 Threshold tuning results:\\n\")  # operation\n",
    "\n",
    "for thresh in thresholds:  # loop\n",
    "    # Predict label = 1 if matched and similarity below threshold\n",
    "    y_pred_thresh = [1 if score < thresh else 0 for score in sim_scores]  # 1 = correct match, 0 = reject  # variable assignment\n",
    "    y_true_bin = y_true  # Already binary: 1 = true match, 0 = false  # variable assignment\n",
    "\n",
    "    acc = accuracy_score(y_true_bin, y_pred_thresh)  # variable assignment\n",
    "    prec = precision_score(y_true_bin, y_pred_thresh, average='binary', zero_division=0)  # variable assignment\n",
    "    rec = recall_score(y_true_bin, y_pred_thresh, average='binary', zero_division=0)  # variable assignment\n",
    "    f1 = f1_score(y_true_bin, y_pred_thresh, average='binary', zero_division=0)  # variable assignment\n",
    "\n",
    "    print(f\"Threshold: {thresh:.2f} | Acc: {acc:.4f}, Prec: {prec:.4f}, Rec: {rec:.4f}, F1: {f1:.4f}\")  # operation\n",
    "\n",
    "    if f1 > best_f1:  # conditional\n",
    "        best_f1 = f1  # variable assignment\n",
    "        best_threshold = thresh  # variable assignment\n",
    "\n",
    "print(f\"\\n✅ Best Threshold: {best_threshold:.2f} | Best F1 Score: {best_f1:.4f}\")  # operation\n"
   ]
  },
  {
   "cell_type": "markdown",
   "id": "92e62745",
   "metadata": {},
   "source": [
    "Step 20:"
   ]
  },
  {
   "cell_type": "code",
   "execution_count": 38,
   "id": "49a77f43-f298-4af1-84c3-5d5084926857",
   "metadata": {},
   "outputs": [],
   "source": [
    "from torchvision import transforms  # importing module\n",
    "\n",
    "train_transform = transforms.Compose([  # variable assignment\n",
    "    transforms.Resize((224,224)),  # operation\n",
    "    transforms.RandomHorizontalFlip(p=0.5),  # variable assignment\n",
    "    transforms.ColorJitter(brightness=0.2, contrast=0.2, saturation=0.2, hue=0.1),  # variable assignment\n",
    "    transforms.ToTensor(),  # operation\n",
    "    transforms.Normalize([0.5], [0.5])  # operation\n",
    "])  # operation\n"
   ]
  },
  {
   "cell_type": "markdown",
   "id": "c7a4abfd",
   "metadata": {},
   "source": [
    "Step 21:"
   ]
  },
  {
   "cell_type": "code",
   "execution_count": 39,
   "id": "950e5a4e-2a83-4d87-bdb9-20518628d1f5",
   "metadata": {},
   "outputs": [],
   "source": [
    "import os  # importing module\n",
    "\n",
    "val_dir = r'C:\\Users\\USER\\Desktop\\hackathon\\val_filtered'  # variable assignment\n",
    "\n",
    "test_filenames = []  # variable assignment\n",
    "for identity in os.listdir(val_dir):  # loop\n",
    "    id_path = os.path.join(val_dir, identity)  # variable assignment\n",
    "    for img_file in os.listdir(id_path):  # loop\n",
    "        if img_file.lower().endswith(('.jpg', '.jpeg', '.png')):  # conditional\n",
    "            test_filenames.append(f\"{identity}/{img_file}\")  # operation\n"
   ]
  },
  {
   "cell_type": "markdown",
   "id": "541b3279",
   "metadata": {},
   "source": [
    "Step 22:"
   ]
  },
  {
   "cell_type": "code",
   "execution_count": 40,
   "id": "cad3227b-9260-4738-8f16-7af91539f969",
   "metadata": {},
   "outputs": [
    {
     "name": "stdout",
     "output_type": "stream",
     "text": [
      "✅ Final predictions saved as final_predictions.csv\n"
     ]
    }
   ],
   "source": [
    "import pandas as pd  # importing module\n",
    "\n",
    "results = []  # variable assignment\n",
    "for filename, pred, score in zip(test_filenames, y_pred, sim_scores):  # loop\n",
    "    if score < best_threshold:  # conditional\n",
    "        pred = 'unknown'  # variable assignment\n",
    "    results.append({'filename': filename, 'predicted_identity': pred, 'score': score})  # operation\n",
    "\n",
    "df = pd.DataFrame(results)  # variable assignment\n",
    "df.to_csv('final_predictions.csv', index=False)  # variable assignment\n",
    "print(\"✅ Final predictions saved as final_predictions.csv\")  # operation\n"
   ]
  },
  {
   "cell_type": "markdown",
   "id": "78144136",
   "metadata": {},
   "source": [
    "Step 23:"
   ]
  },
  {
   "cell_type": "code",
   "execution_count": 41,
   "id": "1bb078ae-3129-469c-af13-5dfa3bb8d362",
   "metadata": {},
   "outputs": [
    {
     "name": "stdout",
     "output_type": "stream",
     "text": [
      "✅ Final model weights saved.\n"
     ]
    }
   ],
   "source": [
    "torch.save(model.state_dict(), f'siamese_model_final.pth')  # operation\n",
    "print(\"✅ Final model weights saved.\")  # operation\n"
   ]
  },
  {
   "cell_type": "markdown",
   "id": "86f08bf0",
   "metadata": {},
   "source": [
    "Step 24:"
   ]
  },
  {
   "cell_type": "code",
   "execution_count": 43,
   "id": "8fd90629-6be1-47be-b327-55a3c2b5cbc4",
   "metadata": {},
   "outputs": [
    {
     "data": {
      "image/png": "[encoded data removed]",
      "text/plain": [
       "<Figure size 800x600 with 1 Axes>"
      ]
     },
     "metadata": {},
     "output_type": "display_data"
    }
   ],
   "source": [
    "from sklearn.metrics import roc_curve, auc  # importing module\n",
    "import matplotlib.pyplot as plt  # importing module\n",
    "\n",
    "fpr, tpr, thresholds = roc_curve(y_true, -np.array(sim_scores))  # variable assignment\n",
    "roc_auc = auc(fpr, tpr)  # variable assignment\n",
    "\n",
    "plt.figure(figsize=(8, 6))  # variable assignment\n",
    "plt.plot(fpr, tpr, label=f\"ROC curve (AUC = {roc_auc:.4f})\", color='darkorange')  # variable assignment\n",
    "plt.plot([0, 1], [0, 1], linestyle='--', color='gray')  # variable assignment\n",
    "plt.xlabel(\"False Positive Rate\")  # operation\n",
    "plt.ylabel(\"True Positive Rate\")  # operation\n",
    "plt.title(\"Receiver Operating Characteristic\")  # operation\n",
    "plt.legend(loc=\"lower right\")  # variable assignment\n",
    "plt.grid(True)  # operation\n",
    "plt.show()  # operation\n"
   ]
  },
  {
   "cell_type": "markdown",
   "id": "c7fbb3f7",
   "metadata": {},
   "source": [
    "Step 25:"
   ]
  },
  {
   "cell_type": "code",
   "execution_count": null,
   "id": "c5c19d80-4d4b-441a-9fc7-7ff828f6b4ad",
   "metadata": {},
   "outputs": [],
   "source": []
  }
 ],
 "metadata": {
  "kernelspec": {
   "display_name": "Python [conda env:base] *",
   "language": "python",
   "name": "conda-base-py"
  },
  "language_info": {
   "codemirror_mode": {
    "name": "ipython",
    "version": 3
   },
   "file_extension": ".py",
   "mimetype": "text/x-python",
   "name": "python",
   "nbconvert_exporter": "python",
   "pygments_lexer": "ipython3",
   "version": "3.12.7"
  }
 },
 "nbformat": 4,
 "nbformat_minor": 5
}
